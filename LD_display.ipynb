{
 "cells": [
  {
   "cell_type": "code",
   "execution_count": 8,
   "metadata": {},
   "outputs": [],
   "source": [
    "from glob import glob\n",
    "\n",
    "image_paths = sorted(glob('./out/*png'))"
   ]
  },
  {
   "cell_type": "code",
   "execution_count": 12,
   "metadata": {},
   "outputs": [
    {
     "data": {
      "text/html": [
       "<div style='display: flex; flex-wrap: wrap;'><div style='display: flex; flex-direction: row;'><img src='./out/NC_000001.11_outD.png' style='width: 200px; height: 200px; object-fit: cover; margin: 5px;'><img src='./out/NC_000001.11_outR.png' style='width: 200px; height: 200px; object-fit: cover; margin: 5px;'></div><div style='display: flex; flex-direction: row;'><img src='./out/NC_000002.12_outD.png' style='width: 200px; height: 200px; object-fit: cover; margin: 5px;'><img src='./out/NC_000002.12_outR.png' style='width: 200px; height: 200px; object-fit: cover; margin: 5px;'></div><div style='display: flex; flex-direction: row;'><img src='./out/NC_000003.12_outD.png' style='width: 200px; height: 200px; object-fit: cover; margin: 5px;'><img src='./out/NC_000003.12_outR.png' style='width: 200px; height: 200px; object-fit: cover; margin: 5px;'></div><div style='display: flex; flex-direction: row;'><img src='./out/NC_000004.12_outD.png' style='width: 200px; height: 200px; object-fit: cover; margin: 5px;'><img src='./out/NC_000004.12_outR.png' style='width: 200px; height: 200px; object-fit: cover; margin: 5px;'></div><div style='display: flex; flex-direction: row;'><img src='./out/NC_000005.10_outD.png' style='width: 200px; height: 200px; object-fit: cover; margin: 5px;'><img src='./out/NC_000005.10_outR.png' style='width: 200px; height: 200px; object-fit: cover; margin: 5px;'></div><div style='display: flex; flex-direction: row;'><img src='./out/NC_000006.12_outD.png' style='width: 200px; height: 200px; object-fit: cover; margin: 5px;'><img src='./out/NC_000006.12_outR.png' style='width: 200px; height: 200px; object-fit: cover; margin: 5px;'></div><div style='display: flex; flex-direction: row;'><img src='./out/NC_000007.14_outD.png' style='width: 200px; height: 200px; object-fit: cover; margin: 5px;'><img src='./out/NC_000007.14_outR.png' style='width: 200px; height: 200px; object-fit: cover; margin: 5px;'></div><div style='display: flex; flex-direction: row;'><img src='./out/NC_000008.11_outD.png' style='width: 200px; height: 200px; object-fit: cover; margin: 5px;'><img src='./out/NC_000008.11_outR.png' style='width: 200px; height: 200px; object-fit: cover; margin: 5px;'></div><div style='display: flex; flex-direction: row;'><img src='./out/NC_000009.12_outD.png' style='width: 200px; height: 200px; object-fit: cover; margin: 5px;'><img src='./out/NC_000009.12_outR.png' style='width: 200px; height: 200px; object-fit: cover; margin: 5px;'></div><div style='display: flex; flex-direction: row;'><img src='./out/NC_000010.11_outD.png' style='width: 200px; height: 200px; object-fit: cover; margin: 5px;'><img src='./out/NC_000010.11_outR.png' style='width: 200px; height: 200px; object-fit: cover; margin: 5px;'></div><div style='display: flex; flex-direction: row;'><img src='./out/NC_000011.10_outD.png' style='width: 200px; height: 200px; object-fit: cover; margin: 5px;'><img src='./out/NC_000011.10_outR.png' style='width: 200px; height: 200px; object-fit: cover; margin: 5px;'></div><div style='display: flex; flex-direction: row;'><img src='./out/NC_000012.12_outD.png' style='width: 200px; height: 200px; object-fit: cover; margin: 5px;'><img src='./out/NC_000012.12_outR.png' style='width: 200px; height: 200px; object-fit: cover; margin: 5px;'></div><div style='display: flex; flex-direction: row;'><img src='./out/NC_000013.11_outD.png' style='width: 200px; height: 200px; object-fit: cover; margin: 5px;'><img src='./out/NC_000013.11_outR.png' style='width: 200px; height: 200px; object-fit: cover; margin: 5px;'></div><div style='display: flex; flex-direction: row;'><img src='./out/NC_000014.9_outD.png' style='width: 200px; height: 200px; object-fit: cover; margin: 5px;'><img src='./out/NC_000014.9_outR.png' style='width: 200px; height: 200px; object-fit: cover; margin: 5px;'></div><div style='display: flex; flex-direction: row;'><img src='./out/NC_000015.10_outD.png' style='width: 200px; height: 200px; object-fit: cover; margin: 5px;'><img src='./out/NC_000015.10_outR.png' style='width: 200px; height: 200px; object-fit: cover; margin: 5px;'></div><div style='display: flex; flex-direction: row;'><img src='./out/NC_000016.10_outD.png' style='width: 200px; height: 200px; object-fit: cover; margin: 5px;'><img src='./out/NC_000016.10_outR.png' style='width: 200px; height: 200px; object-fit: cover; margin: 5px;'></div><div style='display: flex; flex-direction: row;'><img src='./out/NC_000017.11_outD.png' style='width: 200px; height: 200px; object-fit: cover; margin: 5px;'><img src='./out/NC_000017.11_outR.png' style='width: 200px; height: 200px; object-fit: cover; margin: 5px;'></div><div style='display: flex; flex-direction: row;'><img src='./out/NC_000018.10_outD.png' style='width: 200px; height: 200px; object-fit: cover; margin: 5px;'><img src='./out/NC_000018.10_outR.png' style='width: 200px; height: 200px; object-fit: cover; margin: 5px;'></div><div style='display: flex; flex-direction: row;'><img src='./out/NC_000019.10_outD.png' style='width: 200px; height: 200px; object-fit: cover; margin: 5px;'><img src='./out/NC_000019.10_outR.png' style='width: 200px; height: 200px; object-fit: cover; margin: 5px;'></div><div style='display: flex; flex-direction: row;'><img src='./out/NC_000020.11_outD.png' style='width: 200px; height: 200px; object-fit: cover; margin: 5px;'><img src='./out/NC_000020.11_outR.png' style='width: 200px; height: 200px; object-fit: cover; margin: 5px;'></div><div style='display: flex; flex-direction: row;'><img src='./out/NC_000021.9_outD.png' style='width: 200px; height: 200px; object-fit: cover; margin: 5px;'><img src='./out/NC_000021.9_outR.png' style='width: 200px; height: 200px; object-fit: cover; margin: 5px;'></div><div style='display: flex; flex-direction: row;'><img src='./out/NC_000022.11_outD.png' style='width: 200px; height: 200px; object-fit: cover; margin: 5px;'><img src='./out/NC_000022.11_outR.png' style='width: 200px; height: 200px; object-fit: cover; margin: 5px;'></div><div style='display: flex; flex-direction: row;'><img src='./out/NC_000023.11_outD.png' style='width: 200px; height: 200px; object-fit: cover; margin: 5px;'><img src='./out/NC_000023.11_outR.png' style='width: 200px; height: 200px; object-fit: cover; margin: 5px;'></div><div style='display: flex; flex-direction: row;'><img src='./out/NT_187420.1_outD.png' style='width: 200px; height: 200px; object-fit: cover; margin: 5px;'><img src='./out/NT_187420.1_outR.png' style='width: 200px; height: 200px; object-fit: cover; margin: 5px;'></div><div style='display: flex; flex-direction: row;'><img src='./out/NW_014040929.1_outD.png' style='width: 200px; height: 200px; object-fit: cover; margin: 5px;'><img src='./out/NW_014040929.1_outR.png' style='width: 200px; height: 200px; object-fit: cover; margin: 5px;'></div><div style='display: flex; flex-direction: row;'><img src='./out/out.png' style='width: 200px; height: 200px; object-fit: cover; margin: 5px;'></div></div>"
      ],
      "text/plain": [
       "<IPython.core.display.HTML object>"
      ]
     },
     "metadata": {},
     "output_type": "display_data"
    }
   ],
   "source": [
    "from IPython.display import display, HTML\n",
    "\n",
    "# List of image paths (replace with your own paths)\n",
    "\n",
    "# Generate HTML for displaying the images\n",
    "html = \"<div style='display: flex; flex-wrap: wrap;'>\"\n",
    "\n",
    "# Iterate over each pair of images\n",
    "for i in range(0, len(image_paths), 2):\n",
    "    # Generate HTML for the current pair of images\n",
    "    pair_html = \"<div style='display: flex; flex-direction: row;'>\"\n",
    "    pair_html += f\"<img src='{image_paths[i]}' style='width: 200px; height: 200px; object-fit: cover; margin: 5px;'>\"\n",
    "    \n",
    "    # Check if there is a second image in the pair\n",
    "    if i + 1 < len(image_paths):\n",
    "        pair_html += f\"<img src='{image_paths[i+1]}' style='width: 200px; height: 200px; object-fit: cover; margin: 5px;'>\"\n",
    "    \n",
    "    pair_html += \"</div>\"\n",
    "    \n",
    "    # Append the pair HTML to the main HTML\n",
    "    html += pair_html\n",
    "\n",
    "# Close the HTML div tag\n",
    "html += \"</div>\"\n",
    "\n",
    "# Display the HTML\n",
    "display(HTML(html))\n",
    "\n"
   ]
  },
  {
   "cell_type": "code",
   "execution_count": null,
   "metadata": {},
   "outputs": [],
   "source": []
  }
 ],
 "metadata": {
  "kernelspec": {
   "display_name": "Python 3",
   "language": "python",
   "name": "python3"
  },
  "language_info": {
   "codemirror_mode": {
    "name": "ipython",
    "version": 3
   },
   "file_extension": ".py",
   "mimetype": "text/x-python",
   "name": "python",
   "nbconvert_exporter": "python",
   "pygments_lexer": "ipython3",
   "version": "3.10.6"
  },
  "orig_nbformat": 4
 },
 "nbformat": 4,
 "nbformat_minor": 2
}
